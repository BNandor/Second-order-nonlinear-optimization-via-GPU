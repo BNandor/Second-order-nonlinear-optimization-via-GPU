{
 "cells": [
  {
   "cell_type": "code",
   "execution_count": 2,
   "metadata": {
    "pycharm": {
     "name": "#%%\n"
    }
   },
   "outputs": [],
   "source": [
    "## Import libraries"
   ]
  },
  {
   "cell_type": "code",
   "execution_count": 3,
   "metadata": {
    "pycharm": {
     "name": "#%%\n"
    }
   },
   "outputs": [],
   "source": [
    "import numpy as np\n",
    "from mealpy.bio_based import BBO\n",
    "from mealpy.tuner import Tuner     # We will use this Tuner utility\n"
   ]
  },
  {
   "cell_type": "markdown",
   "metadata": {
    "pycharm": {
     "name": "#%% md\n"
    }
   },
   "source": [
    "## Define problem"
   ]
  },
  {
   "cell_type": "code",
   "execution_count": 4,
   "metadata": {
    "pycharm": {
     "name": "#%%\n"
    }
   },
   "outputs": [],
   "source": [
    "def fitness(solution):\n",
    "    return np.sum(solution**2) + np.sum(solution**3)\n",
    "\n",
    "problem = {\n",
    "    \"lb\": [-10] * 20,    # 20 dimensions\n",
    "    \"ub\": [10] * 20,\n",
    "    \"minmax\": \"min\",\n",
    "    \"fit_func\": fitness,\n",
    "    \"name\": \"Mixed Square and Cube Problem\",\n",
    "    \"log_to\": None,\n",
    "}"
   ]
  },
  {
   "cell_type": "markdown",
   "metadata": {
    "pycharm": {
     "name": "#%% md\n"
    }
   },
   "source": [
    "## Define model and parameter grid of the model (just like ParameterGrid / GridSearchCV)\n"
   ]
  },
  {
   "cell_type": "code",
   "execution_count": 5,
   "metadata": {
    "pycharm": {
     "name": "#%%\n"
    }
   },
   "outputs": [],
   "source": [
    "model = BBO.BaseBBO()\n",
    "\n",
    "paras_bbo_grid = {\n",
    "    \"epoch\": [10],\n",
    "    \"pop_size\": [20],\n",
    "    \"elites\": [2, 3, 4],\n",
    "    \"p_m\": [0.01, 0.02, 0.05, 0.1]\n",
    "}"
   ]
  },
  {
   "cell_type": "markdown",
   "metadata": {
    "pycharm": {
     "name": "#%% md\n"
    }
   },
   "source": [
    "## Define the Tuner "
   ]
  },
  {
   "cell_type": "code",
   "execution_count": 6,
   "metadata": {
    "pycharm": {
     "name": "#%%\n"
    }
   },
   "outputs": [],
   "source": [
    "if __name__ == \"__main__\":\n",
    "    \n",
    "    tuner = Tuner(model, paras_bbo_grid)"
   ]
  },
  {
   "cell_type": "markdown",
   "metadata": {
    "pycharm": {
     "name": "#%% md\n"
    }
   },
   "source": [
    "## Run the Tuner to find the best parameters"
   ]
  },
  {
   "cell_type": "code",
   "execution_count": 8,
   "metadata": {
    "pycharm": {
     "name": "#%%\n"
    }
   },
   "outputs": [
    {
     "name": "stdout",
     "output_type": "stream",
     "text": [
      "Algorithm: BaseBBO, with params: {'epoch': 10, 'pop_size': 20, 'elites': 2, 'p_m': 0.01}, trial: 1, best fitness: -6749.451275951246\n",
      "Algorithm: BaseBBO, with params: {'epoch': 10, 'pop_size': 20, 'elites': 2, 'p_m': 0.01}, trial: 2, best fitness: -4907.093205714102\n",
      "Algorithm: BaseBBO, with params: {'epoch': 10, 'pop_size': 20, 'elites': 2, 'p_m': 0.01}, trial: 3, best fitness: -4371.505330065209\n",
      "Algorithm: BaseBBO, with params: {'epoch': 10, 'pop_size': 20, 'elites': 2, 'p_m': 0.01}, trial: 4, best fitness: -5814.291129103921\n",
      "Algorithm: BaseBBO, with params: {'epoch': 10, 'pop_size': 20, 'elites': 2, 'p_m': 0.01}, trial: 5, best fitness: -4922.320908963252\n",
      "Algorithm: BaseBBO, with params: {'epoch': 10, 'pop_size': 20, 'elites': 2, 'p_m': 0.01}, trial: 6, best fitness: -4595.656205972811\n",
      "Algorithm: BaseBBO, with params: {'epoch': 10, 'pop_size': 20, 'elites': 2, 'p_m': 0.01}, trial: 7, best fitness: -6056.116979799799\n",
      "Algorithm: BaseBBO, with params: {'epoch': 10, 'pop_size': 20, 'elites': 2, 'p_m': 0.01}, trial: 8, best fitness: -5720.80762342632\n",
      "Algorithm: BaseBBO, with params: {'epoch': 10, 'pop_size': 20, 'elites': 2, 'p_m': 0.01}, trial: 9, best fitness: -4772.201244998013\n",
      "Algorithm: BaseBBO, with params: {'epoch': 10, 'pop_size': 20, 'elites': 2, 'p_m': 0.01}, trial: 10, best fitness: -5847.626140253487\n",
      "Algorithm: BaseBBO, with params: {'epoch': 10, 'pop_size': 20, 'elites': 2, 'p_m': 0.02}, trial: 1, best fitness: -5484.339410629202\n",
      "Algorithm: BaseBBO, with params: {'epoch': 10, 'pop_size': 20, 'elites': 2, 'p_m': 0.02}, trial: 2, best fitness: -5958.894338130493\n",
      "Algorithm: BaseBBO, with params: {'epoch': 10, 'pop_size': 20, 'elites': 2, 'p_m': 0.02}, trial: 3, best fitness: -5529.91961989126\n",
      "Algorithm: BaseBBO, with params: {'epoch': 10, 'pop_size': 20, 'elites': 2, 'p_m': 0.02}, trial: 4, best fitness: -5319.8412749491345\n",
      "Algorithm: BaseBBO, with params: {'epoch': 10, 'pop_size': 20, 'elites': 2, 'p_m': 0.02}, trial: 5, best fitness: -5173.221270682066\n",
      "Algorithm: BaseBBO, with params: {'epoch': 10, 'pop_size': 20, 'elites': 2, 'p_m': 0.02}, trial: 6, best fitness: -5556.5371952071755\n",
      "Algorithm: BaseBBO, with params: {'epoch': 10, 'pop_size': 20, 'elites': 2, 'p_m': 0.02}, trial: 7, best fitness: -5666.070472337024\n",
      "Algorithm: BaseBBO, with params: {'epoch': 10, 'pop_size': 20, 'elites': 2, 'p_m': 0.02}, trial: 8, best fitness: -6718.537569916298\n",
      "Algorithm: BaseBBO, with params: {'epoch': 10, 'pop_size': 20, 'elites': 2, 'p_m': 0.02}, trial: 9, best fitness: -5001.608543184216\n",
      "Algorithm: BaseBBO, with params: {'epoch': 10, 'pop_size': 20, 'elites': 2, 'p_m': 0.02}, trial: 10, best fitness: -6920.513236673612\n",
      "Algorithm: BaseBBO, with params: {'epoch': 10, 'pop_size': 20, 'elites': 2, 'p_m': 0.05}, trial: 1, best fitness: -5763.222367797026\n",
      "Algorithm: BaseBBO, with params: {'epoch': 10, 'pop_size': 20, 'elites': 2, 'p_m': 0.05}, trial: 2, best fitness: -5358.392357462133\n",
      "Algorithm: BaseBBO, with params: {'epoch': 10, 'pop_size': 20, 'elites': 2, 'p_m': 0.05}, trial: 3, best fitness: -6192.523482801807\n",
      "Algorithm: BaseBBO, with params: {'epoch': 10, 'pop_size': 20, 'elites': 2, 'p_m': 0.05}, trial: 4, best fitness: -5769.348306523716\n",
      "Algorithm: BaseBBO, with params: {'epoch': 10, 'pop_size': 20, 'elites': 2, 'p_m': 0.05}, trial: 5, best fitness: -5767.586864917597\n",
      "Algorithm: BaseBBO, with params: {'epoch': 10, 'pop_size': 20, 'elites': 2, 'p_m': 0.05}, trial: 6, best fitness: -6780.606006986036\n",
      "Algorithm: BaseBBO, with params: {'epoch': 10, 'pop_size': 20, 'elites': 2, 'p_m': 0.05}, trial: 7, best fitness: -5109.6935281430915\n",
      "Algorithm: BaseBBO, with params: {'epoch': 10, 'pop_size': 20, 'elites': 2, 'p_m': 0.05}, trial: 8, best fitness: -5791.613044239583\n",
      "Algorithm: BaseBBO, with params: {'epoch': 10, 'pop_size': 20, 'elites': 2, 'p_m': 0.05}, trial: 9, best fitness: -5609.723134863731\n",
      "Algorithm: BaseBBO, with params: {'epoch': 10, 'pop_size': 20, 'elites': 2, 'p_m': 0.05}, trial: 10, best fitness: -5275.04285657131\n",
      "Algorithm: BaseBBO, with params: {'epoch': 10, 'pop_size': 20, 'elites': 2, 'p_m': 0.1}, trial: 1, best fitness: -5965.773750511269\n",
      "Algorithm: BaseBBO, with params: {'epoch': 10, 'pop_size': 20, 'elites': 2, 'p_m': 0.1}, trial: 2, best fitness: -6055.643995292112\n",
      "Algorithm: BaseBBO, with params: {'epoch': 10, 'pop_size': 20, 'elites': 2, 'p_m': 0.1}, trial: 3, best fitness: -7459.293975608488\n",
      "Algorithm: BaseBBO, with params: {'epoch': 10, 'pop_size': 20, 'elites': 2, 'p_m': 0.1}, trial: 4, best fitness: -4805.116552124037\n",
      "Algorithm: BaseBBO, with params: {'epoch': 10, 'pop_size': 20, 'elites': 2, 'p_m': 0.1}, trial: 5, best fitness: -5533.091675559379\n",
      "Algorithm: BaseBBO, with params: {'epoch': 10, 'pop_size': 20, 'elites': 2, 'p_m': 0.1}, trial: 6, best fitness: -7127.754054994299\n",
      "Algorithm: BaseBBO, with params: {'epoch': 10, 'pop_size': 20, 'elites': 2, 'p_m': 0.1}, trial: 7, best fitness: -4289.9615829846125\n",
      "Algorithm: BaseBBO, with params: {'epoch': 10, 'pop_size': 20, 'elites': 2, 'p_m': 0.1}, trial: 8, best fitness: -4868.043911155295\n",
      "Algorithm: BaseBBO, with params: {'epoch': 10, 'pop_size': 20, 'elites': 2, 'p_m': 0.1}, trial: 9, best fitness: -5847.393588077364\n",
      "Algorithm: BaseBBO, with params: {'epoch': 10, 'pop_size': 20, 'elites': 2, 'p_m': 0.1}, trial: 10, best fitness: -5364.445353491599\n",
      "Algorithm: BaseBBO, with params: {'epoch': 10, 'pop_size': 20, 'elites': 3, 'p_m': 0.01}, trial: 1, best fitness: -4514.907164533071\n",
      "Algorithm: BaseBBO, with params: {'epoch': 10, 'pop_size': 20, 'elites': 3, 'p_m': 0.01}, trial: 2, best fitness: -4951.390461243157\n",
      "Algorithm: BaseBBO, with params: {'epoch': 10, 'pop_size': 20, 'elites': 3, 'p_m': 0.01}, trial: 3, best fitness: -4963.668620673089\n",
      "Algorithm: BaseBBO, with params: {'epoch': 10, 'pop_size': 20, 'elites': 3, 'p_m': 0.01}, trial: 4, best fitness: -6274.263240819323\n",
      "Algorithm: BaseBBO, with params: {'epoch': 10, 'pop_size': 20, 'elites': 3, 'p_m': 0.01}, trial: 5, best fitness: -5867.524727879069\n",
      "Algorithm: BaseBBO, with params: {'epoch': 10, 'pop_size': 20, 'elites': 3, 'p_m': 0.01}, trial: 6, best fitness: -5263.262217845424\n",
      "Algorithm: BaseBBO, with params: {'epoch': 10, 'pop_size': 20, 'elites': 3, 'p_m': 0.01}, trial: 7, best fitness: -4925.635408466061\n",
      "Algorithm: BaseBBO, with params: {'epoch': 10, 'pop_size': 20, 'elites': 3, 'p_m': 0.01}, trial: 8, best fitness: -4958.122655838985\n",
      "Algorithm: BaseBBO, with params: {'epoch': 10, 'pop_size': 20, 'elites': 3, 'p_m': 0.01}, trial: 9, best fitness: -4810.350303931232\n",
      "Algorithm: BaseBBO, with params: {'epoch': 10, 'pop_size': 20, 'elites': 3, 'p_m': 0.01}, trial: 10, best fitness: -5140.596235551623\n",
      "Algorithm: BaseBBO, with params: {'epoch': 10, 'pop_size': 20, 'elites': 3, 'p_m': 0.02}, trial: 1, best fitness: -6496.867995301981\n",
      "Algorithm: BaseBBO, with params: {'epoch': 10, 'pop_size': 20, 'elites': 3, 'p_m': 0.02}, trial: 2, best fitness: -6157.253327293344\n",
      "Algorithm: BaseBBO, with params: {'epoch': 10, 'pop_size': 20, 'elites': 3, 'p_m': 0.02}, trial: 3, best fitness: -5372.903189646715\n",
      "Algorithm: BaseBBO, with params: {'epoch': 10, 'pop_size': 20, 'elites': 3, 'p_m': 0.02}, trial: 4, best fitness: -5473.257183564828\n",
      "Algorithm: BaseBBO, with params: {'epoch': 10, 'pop_size': 20, 'elites': 3, 'p_m': 0.02}, trial: 5, best fitness: -5890.542562918745\n",
      "Algorithm: BaseBBO, with params: {'epoch': 10, 'pop_size': 20, 'elites': 3, 'p_m': 0.02}, trial: 6, best fitness: -5544.392957687568\n",
      "Algorithm: BaseBBO, with params: {'epoch': 10, 'pop_size': 20, 'elites': 3, 'p_m': 0.02}, trial: 7, best fitness: -6426.203406665294\n",
      "Algorithm: BaseBBO, with params: {'epoch': 10, 'pop_size': 20, 'elites': 3, 'p_m': 0.02}, trial: 8, best fitness: -4906.225240462705\n",
      "Algorithm: BaseBBO, with params: {'epoch': 10, 'pop_size': 20, 'elites': 3, 'p_m': 0.02}, trial: 9, best fitness: -6041.119454746243\n",
      "Algorithm: BaseBBO, with params: {'epoch': 10, 'pop_size': 20, 'elites': 3, 'p_m': 0.02}, trial: 10, best fitness: -6086.756068899836\n",
      "Algorithm: BaseBBO, with params: {'epoch': 10, 'pop_size': 20, 'elites': 3, 'p_m': 0.05}, trial: 1, best fitness: -6395.956273616957\n",
      "Algorithm: BaseBBO, with params: {'epoch': 10, 'pop_size': 20, 'elites': 3, 'p_m': 0.05}, trial: 2, best fitness: -7000.797401640262\n"
     ]
    },
    {
     "name": "stdout",
     "output_type": "stream",
     "text": [
      "Algorithm: BaseBBO, with params: {'epoch': 10, 'pop_size': 20, 'elites': 3, 'p_m': 0.05}, trial: 3, best fitness: -5567.430641623123\n",
      "Algorithm: BaseBBO, with params: {'epoch': 10, 'pop_size': 20, 'elites': 3, 'p_m': 0.05}, trial: 4, best fitness: -5195.39198147595\n",
      "Algorithm: BaseBBO, with params: {'epoch': 10, 'pop_size': 20, 'elites': 3, 'p_m': 0.05}, trial: 5, best fitness: -5727.816400831292\n",
      "Algorithm: BaseBBO, with params: {'epoch': 10, 'pop_size': 20, 'elites': 3, 'p_m': 0.05}, trial: 6, best fitness: -5786.105823205189\n",
      "Algorithm: BaseBBO, with params: {'epoch': 10, 'pop_size': 20, 'elites': 3, 'p_m': 0.05}, trial: 7, best fitness: -5204.789573655908\n",
      "Algorithm: BaseBBO, with params: {'epoch': 10, 'pop_size': 20, 'elites': 3, 'p_m': 0.05}, trial: 8, best fitness: -5729.843152873849\n",
      "Algorithm: BaseBBO, with params: {'epoch': 10, 'pop_size': 20, 'elites': 3, 'p_m': 0.05}, trial: 9, best fitness: -6520.022044786789\n",
      "Algorithm: BaseBBO, with params: {'epoch': 10, 'pop_size': 20, 'elites': 3, 'p_m': 0.05}, trial: 10, best fitness: -5537.905696713236\n",
      "Algorithm: BaseBBO, with params: {'epoch': 10, 'pop_size': 20, 'elites': 3, 'p_m': 0.1}, trial: 1, best fitness: -5988.848345846246\n",
      "Algorithm: BaseBBO, with params: {'epoch': 10, 'pop_size': 20, 'elites': 3, 'p_m': 0.1}, trial: 2, best fitness: -7402.390846055317\n",
      "Algorithm: BaseBBO, with params: {'epoch': 10, 'pop_size': 20, 'elites': 3, 'p_m': 0.1}, trial: 3, best fitness: -6107.703591260148\n",
      "Algorithm: BaseBBO, with params: {'epoch': 10, 'pop_size': 20, 'elites': 3, 'p_m': 0.1}, trial: 4, best fitness: -7870.887087382519\n",
      "Algorithm: BaseBBO, with params: {'epoch': 10, 'pop_size': 20, 'elites': 3, 'p_m': 0.1}, trial: 5, best fitness: -6694.054248744302\n",
      "Algorithm: BaseBBO, with params: {'epoch': 10, 'pop_size': 20, 'elites': 3, 'p_m': 0.1}, trial: 6, best fitness: -7304.456925925813\n",
      "Algorithm: BaseBBO, with params: {'epoch': 10, 'pop_size': 20, 'elites': 3, 'p_m': 0.1}, trial: 7, best fitness: -5630.302647873423\n",
      "Algorithm: BaseBBO, with params: {'epoch': 10, 'pop_size': 20, 'elites': 3, 'p_m': 0.1}, trial: 8, best fitness: -5211.669837854261\n",
      "Algorithm: BaseBBO, with params: {'epoch': 10, 'pop_size': 20, 'elites': 3, 'p_m': 0.1}, trial: 9, best fitness: -5136.054956646607\n",
      "Algorithm: BaseBBO, with params: {'epoch': 10, 'pop_size': 20, 'elites': 3, 'p_m': 0.1}, trial: 10, best fitness: -6030.566323029839\n",
      "Algorithm: BaseBBO, with params: {'epoch': 10, 'pop_size': 20, 'elites': 4, 'p_m': 0.01}, trial: 1, best fitness: -5327.387712239588\n",
      "Algorithm: BaseBBO, with params: {'epoch': 10, 'pop_size': 20, 'elites': 4, 'p_m': 0.01}, trial: 2, best fitness: -5417.041413546964\n",
      "Algorithm: BaseBBO, with params: {'epoch': 10, 'pop_size': 20, 'elites': 4, 'p_m': 0.01}, trial: 3, best fitness: -5717.448466549301\n",
      "Algorithm: BaseBBO, with params: {'epoch': 10, 'pop_size': 20, 'elites': 4, 'p_m': 0.01}, trial: 4, best fitness: -6063.961643240425\n",
      "Algorithm: BaseBBO, with params: {'epoch': 10, 'pop_size': 20, 'elites': 4, 'p_m': 0.01}, trial: 5, best fitness: -6095.843302211267\n",
      "Algorithm: BaseBBO, with params: {'epoch': 10, 'pop_size': 20, 'elites': 4, 'p_m': 0.01}, trial: 6, best fitness: -5623.073921089532\n",
      "Algorithm: BaseBBO, with params: {'epoch': 10, 'pop_size': 20, 'elites': 4, 'p_m': 0.01}, trial: 7, best fitness: -6358.659568294419\n",
      "Algorithm: BaseBBO, with params: {'epoch': 10, 'pop_size': 20, 'elites': 4, 'p_m': 0.01}, trial: 8, best fitness: -5088.424647997941\n",
      "Algorithm: BaseBBO, with params: {'epoch': 10, 'pop_size': 20, 'elites': 4, 'p_m': 0.01}, trial: 9, best fitness: -5113.216943262311\n",
      "Algorithm: BaseBBO, with params: {'epoch': 10, 'pop_size': 20, 'elites': 4, 'p_m': 0.01}, trial: 10, best fitness: -5308.6554643519985\n",
      "Algorithm: BaseBBO, with params: {'epoch': 10, 'pop_size': 20, 'elites': 4, 'p_m': 0.02}, trial: 1, best fitness: -6093.402988656623\n",
      "Algorithm: BaseBBO, with params: {'epoch': 10, 'pop_size': 20, 'elites': 4, 'p_m': 0.02}, trial: 2, best fitness: -7964.188597910942\n",
      "Algorithm: BaseBBO, with params: {'epoch': 10, 'pop_size': 20, 'elites': 4, 'p_m': 0.02}, trial: 3, best fitness: -4580.511253984267\n",
      "Algorithm: BaseBBO, with params: {'epoch': 10, 'pop_size': 20, 'elites': 4, 'p_m': 0.02}, trial: 4, best fitness: -7724.485390425794\n",
      "Algorithm: BaseBBO, with params: {'epoch': 10, 'pop_size': 20, 'elites': 4, 'p_m': 0.02}, trial: 5, best fitness: -4987.297566538315\n",
      "Algorithm: BaseBBO, with params: {'epoch': 10, 'pop_size': 20, 'elites': 4, 'p_m': 0.02}, trial: 6, best fitness: -6421.139100723839\n",
      "Algorithm: BaseBBO, with params: {'epoch': 10, 'pop_size': 20, 'elites': 4, 'p_m': 0.02}, trial: 7, best fitness: -6385.577485688298\n",
      "Algorithm: BaseBBO, with params: {'epoch': 10, 'pop_size': 20, 'elites': 4, 'p_m': 0.02}, trial: 8, best fitness: -5406.721376762823\n",
      "Algorithm: BaseBBO, with params: {'epoch': 10, 'pop_size': 20, 'elites': 4, 'p_m': 0.02}, trial: 9, best fitness: -7009.084420879297\n",
      "Algorithm: BaseBBO, with params: {'epoch': 10, 'pop_size': 20, 'elites': 4, 'p_m': 0.02}, trial: 10, best fitness: -4362.2013930926205\n",
      "Algorithm: BaseBBO, with params: {'epoch': 10, 'pop_size': 20, 'elites': 4, 'p_m': 0.05}, trial: 1, best fitness: -5955.530855536292\n",
      "Algorithm: BaseBBO, with params: {'epoch': 10, 'pop_size': 20, 'elites': 4, 'p_m': 0.05}, trial: 2, best fitness: -6276.446635150409\n",
      "Algorithm: BaseBBO, with params: {'epoch': 10, 'pop_size': 20, 'elites': 4, 'p_m': 0.05}, trial: 3, best fitness: -6067.0562733686975\n",
      "Algorithm: BaseBBO, with params: {'epoch': 10, 'pop_size': 20, 'elites': 4, 'p_m': 0.05}, trial: 4, best fitness: -4450.752784886276\n",
      "Algorithm: BaseBBO, with params: {'epoch': 10, 'pop_size': 20, 'elites': 4, 'p_m': 0.05}, trial: 5, best fitness: -5150.469398310011\n",
      "Algorithm: BaseBBO, with params: {'epoch': 10, 'pop_size': 20, 'elites': 4, 'p_m': 0.05}, trial: 6, best fitness: -7088.359678648495\n",
      "Algorithm: BaseBBO, with params: {'epoch': 10, 'pop_size': 20, 'elites': 4, 'p_m': 0.05}, trial: 7, best fitness: -6473.736548411631\n",
      "Algorithm: BaseBBO, with params: {'epoch': 10, 'pop_size': 20, 'elites': 4, 'p_m': 0.05}, trial: 8, best fitness: -5075.661947548444\n",
      "Algorithm: BaseBBO, with params: {'epoch': 10, 'pop_size': 20, 'elites': 4, 'p_m': 0.05}, trial: 9, best fitness: -6537.0795831906735\n",
      "Algorithm: BaseBBO, with params: {'epoch': 10, 'pop_size': 20, 'elites': 4, 'p_m': 0.05}, trial: 10, best fitness: -5317.240223342355\n",
      "Algorithm: BaseBBO, with params: {'epoch': 10, 'pop_size': 20, 'elites': 4, 'p_m': 0.1}, trial: 1, best fitness: -6566.069527527243\n",
      "Algorithm: BaseBBO, with params: {'epoch': 10, 'pop_size': 20, 'elites': 4, 'p_m': 0.1}, trial: 2, best fitness: -7042.032392616127\n",
      "Algorithm: BaseBBO, with params: {'epoch': 10, 'pop_size': 20, 'elites': 4, 'p_m': 0.1}, trial: 3, best fitness: -6409.075675659244\n",
      "Algorithm: BaseBBO, with params: {'epoch': 10, 'pop_size': 20, 'elites': 4, 'p_m': 0.1}, trial: 4, best fitness: -6642.282687979998\n",
      "Algorithm: BaseBBO, with params: {'epoch': 10, 'pop_size': 20, 'elites': 4, 'p_m': 0.1}, trial: 5, best fitness: -5823.539671970802\n",
      "Algorithm: BaseBBO, with params: {'epoch': 10, 'pop_size': 20, 'elites': 4, 'p_m': 0.1}, trial: 6, best fitness: -5315.9668987972045\n",
      "Algorithm: BaseBBO, with params: {'epoch': 10, 'pop_size': 20, 'elites': 4, 'p_m': 0.1}, trial: 7, best fitness: -6261.42108931665\n",
      "Algorithm: BaseBBO, with params: {'epoch': 10, 'pop_size': 20, 'elites': 4, 'p_m': 0.1}, trial: 8, best fitness: -6652.015649406753\n",
      "Algorithm: BaseBBO, with params: {'epoch': 10, 'pop_size': 20, 'elites': 4, 'p_m': 0.1}, trial: 9, best fitness: -6292.261991734005\n",
      "Algorithm: BaseBBO, with params: {'epoch': 10, 'pop_size': 20, 'elites': 4, 'p_m': 0.1}, trial: 10, best fitness: -5967.132080144133\n",
      "Best parameter: {'epoch': 10, 'pop_size': 20, 'elites': 3, 'p_m': 0.1}\n",
      "Best score: -6337.693481061848\n",
      "Best Optimizer: BaseBBO(epoch=10, pop_size=20, p_m=0.1, elites=3)\n",
      "Best solution after re-solve: [-8.61442311  6.65158151 -7.09190426 -1.72009218 -9.1197508   8.11495733\n",
      " -9.71513647 -0.83350964 -5.99339355 -9.30827109 -9.99533784 -4.41806707\n",
      "  0.83673975  5.67501861 -8.6890488  -6.54215639 -4.20999105 -3.4802551\n",
      " -3.78543294 -8.86589   ]\n",
      "Best fitness after re-solve: -4643.815294910327\n"
     ]
    }
   ],
   "source": [
    "    ## Try to run this optimizer on this problem 10 times (n_trials = 10). \n",
    "    ## Get the best model by mean value of all trials\n",
    "    tuner.execute(problem=problem, n_trials=10, mode=\"parallel\", n_workers=4)\n",
    "    \n",
    "    ## Better to save the tunning results to CSV for later usage\n",
    "    tuner.export_results()\n",
    "    \n",
    "    ## Also better to export all available figures\n",
    "    tuner.export_figures()\n",
    "    \n",
    "    ## Print out the best pameters\n",
    "    print(f\"Best parameter: {tuner.best_params}\")\n",
    "    \n",
    "    ## Print out the best score of the best parameter\n",
    "    print(f\"Best score: {tuner.best_score}\")\n",
    "    \n",
    "    ## Print out the algorithm with the best parameter\n",
    "    print(f\"Best Optimizer: {tuner.best_algorithm}\")\n",
    "    \n",
    "    \n",
    "    ## Now we can even re-train the algorithm with the best parameter by calling resolve() function \n",
    "    ## Resolve() function will call the solve() function in algorithm with default problem parameter is removed. \n",
    "    ##    other parameters of solve() function is keeped and can be used.\n",
    "    \n",
    "    best_position, best_fitness = tuner.resolve()\n",
    "    print(f\"Best solution after re-solve: {best_position}\")\n",
    "    print(f\"Best fitness after re-solve: {best_fitness}\")\n"
   ]
  },
  {
   "cell_type": "markdown",
   "metadata": {
    "pycharm": {
     "name": "#%%\n"
    }
   },
   "source": [
    "## Can't run the parallel mode in Jupiter, but in Pycharm, Spider, or Command Line run just fine.\n",
    "\n",
    "* We can use sequential mode, which will take more times to run. (Default mode is also sequential)"
   ]
  },
  {
   "cell_type": "code",
   "execution_count": 10,
   "metadata": {
    "pycharm": {
     "name": "#%%\n"
    }
   },
   "outputs": [
    {
     "name": "stdout",
     "output_type": "stream",
     "text": [
      "Algorithm: BaseBBO, with params: {'epoch': 10, 'pop_size': 20, 'elites': 2, 'p_m': 0.01}, trial: 1, best fitness: -6087.4023344857105\n",
      "Algorithm: BaseBBO, with params: {'epoch': 10, 'pop_size': 20, 'elites': 2, 'p_m': 0.01}, trial: 2, best fitness: -5953.159033384985\n",
      "Algorithm: BaseBBO, with params: {'epoch': 10, 'pop_size': 20, 'elites': 2, 'p_m': 0.01}, trial: 3, best fitness: -4604.533379958867\n",
      "Algorithm: BaseBBO, with params: {'epoch': 10, 'pop_size': 20, 'elites': 2, 'p_m': 0.01}, trial: 4, best fitness: -4140.465363343356\n",
      "Algorithm: BaseBBO, with params: {'epoch': 10, 'pop_size': 20, 'elites': 2, 'p_m': 0.01}, trial: 5, best fitness: -5344.344263758288\n",
      "Algorithm: BaseBBO, with params: {'epoch': 10, 'pop_size': 20, 'elites': 2, 'p_m': 0.02}, trial: 1, best fitness: -6478.076346072969\n",
      "Algorithm: BaseBBO, with params: {'epoch': 10, 'pop_size': 20, 'elites': 2, 'p_m': 0.02}, trial: 2, best fitness: -5692.00878216743\n",
      "Algorithm: BaseBBO, with params: {'epoch': 10, 'pop_size': 20, 'elites': 2, 'p_m': 0.02}, trial: 3, best fitness: -4642.861645915332\n",
      "Algorithm: BaseBBO, with params: {'epoch': 10, 'pop_size': 20, 'elites': 2, 'p_m': 0.02}, trial: 4, best fitness: -5173.506048900671\n",
      "Algorithm: BaseBBO, with params: {'epoch': 10, 'pop_size': 20, 'elites': 2, 'p_m': 0.02}, trial: 5, best fitness: -3694.93714917116\n",
      "Algorithm: BaseBBO, with params: {'epoch': 10, 'pop_size': 20, 'elites': 2, 'p_m': 0.05}, trial: 1, best fitness: -4616.120714526567\n",
      "Algorithm: BaseBBO, with params: {'epoch': 10, 'pop_size': 20, 'elites': 2, 'p_m': 0.05}, trial: 2, best fitness: -6400.862367419209\n",
      "Algorithm: BaseBBO, with params: {'epoch': 10, 'pop_size': 20, 'elites': 2, 'p_m': 0.05}, trial: 3, best fitness: -5757.226571714822\n",
      "Algorithm: BaseBBO, with params: {'epoch': 10, 'pop_size': 20, 'elites': 2, 'p_m': 0.05}, trial: 4, best fitness: -5678.555542551294\n",
      "Algorithm: BaseBBO, with params: {'epoch': 10, 'pop_size': 20, 'elites': 2, 'p_m': 0.05}, trial: 5, best fitness: -7443.264569581479\n",
      "Algorithm: BaseBBO, with params: {'epoch': 10, 'pop_size': 20, 'elites': 2, 'p_m': 0.1}, trial: 1, best fitness: -6402.838710000295\n",
      "Algorithm: BaseBBO, with params: {'epoch': 10, 'pop_size': 20, 'elites': 2, 'p_m': 0.1}, trial: 2, best fitness: -5170.289118774765\n",
      "Algorithm: BaseBBO, with params: {'epoch': 10, 'pop_size': 20, 'elites': 2, 'p_m': 0.1}, trial: 3, best fitness: -5779.85381053784\n",
      "Algorithm: BaseBBO, with params: {'epoch': 10, 'pop_size': 20, 'elites': 2, 'p_m': 0.1}, trial: 4, best fitness: -7363.62204068222\n",
      "Algorithm: BaseBBO, with params: {'epoch': 10, 'pop_size': 20, 'elites': 2, 'p_m': 0.1}, trial: 5, best fitness: -5436.027938211111\n",
      "Algorithm: BaseBBO, with params: {'epoch': 10, 'pop_size': 20, 'elites': 3, 'p_m': 0.01}, trial: 1, best fitness: -5505.307386825142\n",
      "Algorithm: BaseBBO, with params: {'epoch': 10, 'pop_size': 20, 'elites': 3, 'p_m': 0.01}, trial: 2, best fitness: -6451.152375821537\n",
      "Algorithm: BaseBBO, with params: {'epoch': 10, 'pop_size': 20, 'elites': 3, 'p_m': 0.01}, trial: 3, best fitness: -5215.184785192113\n",
      "Algorithm: BaseBBO, with params: {'epoch': 10, 'pop_size': 20, 'elites': 3, 'p_m': 0.01}, trial: 4, best fitness: -5089.665673365866\n",
      "Algorithm: BaseBBO, with params: {'epoch': 10, 'pop_size': 20, 'elites': 3, 'p_m': 0.01}, trial: 5, best fitness: -7064.3056530106705\n",
      "Algorithm: BaseBBO, with params: {'epoch': 10, 'pop_size': 20, 'elites': 3, 'p_m': 0.02}, trial: 1, best fitness: -6285.793036763386\n",
      "Algorithm: BaseBBO, with params: {'epoch': 10, 'pop_size': 20, 'elites': 3, 'p_m': 0.02}, trial: 2, best fitness: -6649.327435342364\n",
      "Algorithm: BaseBBO, with params: {'epoch': 10, 'pop_size': 20, 'elites': 3, 'p_m': 0.02}, trial: 3, best fitness: -6021.505033190322\n",
      "Algorithm: BaseBBO, with params: {'epoch': 10, 'pop_size': 20, 'elites': 3, 'p_m': 0.02}, trial: 4, best fitness: -7206.869422430419\n",
      "Algorithm: BaseBBO, with params: {'epoch': 10, 'pop_size': 20, 'elites': 3, 'p_m': 0.02}, trial: 5, best fitness: -5142.808328203472\n",
      "Algorithm: BaseBBO, with params: {'epoch': 10, 'pop_size': 20, 'elites': 3, 'p_m': 0.05}, trial: 1, best fitness: -6181.242906794802\n",
      "Algorithm: BaseBBO, with params: {'epoch': 10, 'pop_size': 20, 'elites': 3, 'p_m': 0.05}, trial: 2, best fitness: -5820.325359093917\n",
      "Algorithm: BaseBBO, with params: {'epoch': 10, 'pop_size': 20, 'elites': 3, 'p_m': 0.05}, trial: 3, best fitness: -6996.657670912822\n",
      "Algorithm: BaseBBO, with params: {'epoch': 10, 'pop_size': 20, 'elites': 3, 'p_m': 0.05}, trial: 4, best fitness: -5380.709763279003\n",
      "Algorithm: BaseBBO, with params: {'epoch': 10, 'pop_size': 20, 'elites': 3, 'p_m': 0.05}, trial: 5, best fitness: -5833.830728993885\n",
      "Algorithm: BaseBBO, with params: {'epoch': 10, 'pop_size': 20, 'elites': 3, 'p_m': 0.1}, trial: 1, best fitness: -6870.566078499949\n",
      "Algorithm: BaseBBO, with params: {'epoch': 10, 'pop_size': 20, 'elites': 3, 'p_m': 0.1}, trial: 2, best fitness: -4879.753495599856\n",
      "Algorithm: BaseBBO, with params: {'epoch': 10, 'pop_size': 20, 'elites': 3, 'p_m': 0.1}, trial: 3, best fitness: -6684.149616280148\n",
      "Algorithm: BaseBBO, with params: {'epoch': 10, 'pop_size': 20, 'elites': 3, 'p_m': 0.1}, trial: 4, best fitness: -7434.421905752742\n",
      "Algorithm: BaseBBO, with params: {'epoch': 10, 'pop_size': 20, 'elites': 3, 'p_m': 0.1}, trial: 5, best fitness: -6755.887037448783\n",
      "Algorithm: BaseBBO, with params: {'epoch': 10, 'pop_size': 20, 'elites': 4, 'p_m': 0.01}, trial: 1, best fitness: -4801.766735676022\n",
      "Algorithm: BaseBBO, with params: {'epoch': 10, 'pop_size': 20, 'elites': 4, 'p_m': 0.01}, trial: 2, best fitness: -5878.109748853356\n",
      "Algorithm: BaseBBO, with params: {'epoch': 10, 'pop_size': 20, 'elites': 4, 'p_m': 0.01}, trial: 3, best fitness: -5655.816750426514\n",
      "Algorithm: BaseBBO, with params: {'epoch': 10, 'pop_size': 20, 'elites': 4, 'p_m': 0.01}, trial: 4, best fitness: -4625.084122587053\n",
      "Algorithm: BaseBBO, with params: {'epoch': 10, 'pop_size': 20, 'elites': 4, 'p_m': 0.01}, trial: 5, best fitness: -6499.712593019845\n",
      "Algorithm: BaseBBO, with params: {'epoch': 10, 'pop_size': 20, 'elites': 4, 'p_m': 0.02}, trial: 1, best fitness: -6467.806637813677\n",
      "Algorithm: BaseBBO, with params: {'epoch': 10, 'pop_size': 20, 'elites': 4, 'p_m': 0.02}, trial: 2, best fitness: -6072.326358689928\n",
      "Algorithm: BaseBBO, with params: {'epoch': 10, 'pop_size': 20, 'elites': 4, 'p_m': 0.02}, trial: 3, best fitness: -5211.457047082077\n",
      "Algorithm: BaseBBO, with params: {'epoch': 10, 'pop_size': 20, 'elites': 4, 'p_m': 0.02}, trial: 4, best fitness: -7081.488149391683\n",
      "Algorithm: BaseBBO, with params: {'epoch': 10, 'pop_size': 20, 'elites': 4, 'p_m': 0.02}, trial: 5, best fitness: -7368.169718444797\n",
      "Algorithm: BaseBBO, with params: {'epoch': 10, 'pop_size': 20, 'elites': 4, 'p_m': 0.05}, trial: 1, best fitness: -6246.784618756438\n",
      "Algorithm: BaseBBO, with params: {'epoch': 10, 'pop_size': 20, 'elites': 4, 'p_m': 0.05}, trial: 2, best fitness: -5316.809151528521\n",
      "Algorithm: BaseBBO, with params: {'epoch': 10, 'pop_size': 20, 'elites': 4, 'p_m': 0.05}, trial: 3, best fitness: -6304.977459728098\n",
      "Algorithm: BaseBBO, with params: {'epoch': 10, 'pop_size': 20, 'elites': 4, 'p_m': 0.05}, trial: 4, best fitness: -6736.285030584848\n",
      "Algorithm: BaseBBO, with params: {'epoch': 10, 'pop_size': 20, 'elites': 4, 'p_m': 0.05}, trial: 5, best fitness: -5712.245227381476\n",
      "Algorithm: BaseBBO, with params: {'epoch': 10, 'pop_size': 20, 'elites': 4, 'p_m': 0.1}, trial: 1, best fitness: -6328.2779762201035\n",
      "Algorithm: BaseBBO, with params: {'epoch': 10, 'pop_size': 20, 'elites': 4, 'p_m': 0.1}, trial: 2, best fitness: -5801.027476852336\n",
      "Algorithm: BaseBBO, with params: {'epoch': 10, 'pop_size': 20, 'elites': 4, 'p_m': 0.1}, trial: 3, best fitness: -5703.1596822287775\n",
      "Algorithm: BaseBBO, with params: {'epoch': 10, 'pop_size': 20, 'elites': 4, 'p_m': 0.1}, trial: 4, best fitness: -7661.935101475358\n",
      "Algorithm: BaseBBO, with params: {'epoch': 10, 'pop_size': 20, 'elites': 4, 'p_m': 0.1}, trial: 5, best fitness: -6413.943670016013\n",
      "Best parameter: {'epoch': 10, 'pop_size': 20, 'elites': 3, 'p_m': 0.1}\n",
      "Best score: -6524.955626716296\n",
      "Best Optimizer: BaseBBO(epoch=10, pop_size=20, p_m=0.1, elites=3)\n",
      "Best solution after re-solve: [-6.24473566 -9.41789034 -6.72175362 -3.43996469  4.60571128 -6.23175539\n",
      " -9.81943192 -6.00917592 -4.34642757  3.32370824 -6.5458199  -7.88713195\n",
      " -7.84591475  0.68296315 -8.4031057  -8.90677224  4.676948   -0.67584977\n",
      " -9.09910991 -7.93331472]\n",
      "Best fitness after re-solve: -5588.825638977439\n"
     ]
    }
   ],
   "source": [
    "    ## Try to run this optimizer on this problem 5 times (n_trials = 5). \n",
    "    ## Get the best model by mean value of all trials\n",
    "    tuner.execute(problem=problem, n_trials=5)\n",
    "    \n",
    "    ## Better to save the tunning results to CSV for later usage\n",
    "    tuner.export_results()\n",
    "    \n",
    "    ## Also better to draw the figures that are available.\n",
    "    tuner.export_figures()\n",
    "    \n",
    "    ## Print out the best pameters\n",
    "    print(f\"Best parameter: {tuner.best_params}\")\n",
    "    \n",
    "    ## Print out the best score of the best parameter\n",
    "    print(f\"Best score: {tuner.best_score}\")\n",
    "    \n",
    "    ## Print out the algorithm with the best parameter\n",
    "    print(f\"Best Optimizer: {tuner.best_algorithm}\")\n",
    "    \n",
    "    \n",
    "    ## Now we can even re-train the algorithm with the best parameter by calling resolve() function \n",
    "    ## Resolve() function will call the solve() function in algorithm with default problem parameter is removed. \n",
    "    ##    other parameters of solve() function is keeped and can be used.\n",
    "    \n",
    "    best_position, best_fitness = tuner.resolve()\n",
    "    print(f\"Best solution after re-solve: {best_position}\")\n",
    "    print(f\"Best fitness after re-solve: {best_fitness}\")"
   ]
  },
  {
   "cell_type": "code",
   "execution_count": null,
   "metadata": {
    "pycharm": {
     "name": "#%%\n"
    }
   },
   "outputs": [],
   "source": []
  }
 ],
 "metadata": {
  "kernelspec": {
   "display_name": "Python 3 (ipykernel)",
   "language": "python",
   "name": "python3"
  },
  "language_info": {
   "codemirror_mode": {
    "name": "ipython",
    "version": 3
   },
   "file_extension": ".py",
   "mimetype": "text/x-python",
   "name": "python",
   "nbconvert_exporter": "python",
   "pygments_lexer": "ipython3",
   "version": "3.8.5"
  }
 },
 "nbformat": 4,
 "nbformat_minor": 1
}